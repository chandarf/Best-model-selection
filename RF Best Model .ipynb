{
 "cells": [
  {
   "cell_type": "code",
   "execution_count": 74,
   "metadata": {},
   "outputs": [],
   "source": [
    "# Import necessary python libraries````\n",
    "\n",
    "import pandas as pd\n",
    "import numpy as np\n",
    "import scipy.stats as stats\n",
    "import matplotlib.pyplot as plt\n",
    "import seaborn as sns\n",
    "from pylab import rcParams\n",
    "import matplotlib as plt\n",
    "\n",
    "%matplotlib inline\n",
    "sns.set(style = \"ticks\")\n",
    "rcParams['figure.figsize'] = 15,10  # rcParams for plot rendering attributes\n",
    "rcParams['font.size'] = 15\n",
    "rcParams['axes.facecolor'] = 'white' # plott \n",
    "plt.rc('lines', linewidth=5, color='r')"
   ]
  },
  {
   "cell_type": "code",
   "execution_count": 6,
   "metadata": {},
   "outputs": [],
   "source": [
    "# Reading file\n",
    "churn= pd.read_csv(\"churn_data_columns.csv\")"
   ]
  },
  {
   "cell_type": "code",
   "execution_count": 7,
   "metadata": {},
   "outputs": [
    {
     "data": {
      "text/html": [
       "<div>\n",
       "<style scoped>\n",
       "    .dataframe tbody tr th:only-of-type {\n",
       "        vertical-align: middle;\n",
       "    }\n",
       "\n",
       "    .dataframe tbody tr th {\n",
       "        vertical-align: top;\n",
       "    }\n",
       "\n",
       "    .dataframe thead th {\n",
       "        text-align: right;\n",
       "    }\n",
       "</style>\n",
       "<table border=\"1\" class=\"dataframe\">\n",
       "  <thead>\n",
       "    <tr style=\"text-align: right;\">\n",
       "      <th></th>\n",
       "      <th>Unnamed: 0</th>\n",
       "      <th>State</th>\n",
       "      <th>Account_Length</th>\n",
       "      <th>Area_Code</th>\n",
       "      <th>Phone</th>\n",
       "      <th>International_plan</th>\n",
       "      <th>VMail_Plan</th>\n",
       "      <th>Vmail_Message</th>\n",
       "      <th>Day_Mins</th>\n",
       "      <th>Day_Calls</th>\n",
       "      <th>...</th>\n",
       "      <th>Eve_Calls</th>\n",
       "      <th>Eve_Charge</th>\n",
       "      <th>Night_Mins</th>\n",
       "      <th>Night_Calls</th>\n",
       "      <th>Night_Charge</th>\n",
       "      <th>International_Mins</th>\n",
       "      <th>International_Calls</th>\n",
       "      <th>International_Charge</th>\n",
       "      <th>CustServ_Calls</th>\n",
       "      <th>Churn</th>\n",
       "    </tr>\n",
       "  </thead>\n",
       "  <tbody>\n",
       "    <tr>\n",
       "      <td>0</td>\n",
       "      <td>0</td>\n",
       "      <td>KS</td>\n",
       "      <td>128</td>\n",
       "      <td>415</td>\n",
       "      <td>382-4657</td>\n",
       "      <td>no</td>\n",
       "      <td>yes</td>\n",
       "      <td>25</td>\n",
       "      <td>265.1</td>\n",
       "      <td>110</td>\n",
       "      <td>...</td>\n",
       "      <td>99</td>\n",
       "      <td>16.78</td>\n",
       "      <td>244.7</td>\n",
       "      <td>91</td>\n",
       "      <td>11.01</td>\n",
       "      <td>10.0</td>\n",
       "      <td>3</td>\n",
       "      <td>2.70</td>\n",
       "      <td>1</td>\n",
       "      <td>False.</td>\n",
       "    </tr>\n",
       "    <tr>\n",
       "      <td>1</td>\n",
       "      <td>1</td>\n",
       "      <td>OH</td>\n",
       "      <td>107</td>\n",
       "      <td>415</td>\n",
       "      <td>371-7191</td>\n",
       "      <td>no</td>\n",
       "      <td>yes</td>\n",
       "      <td>26</td>\n",
       "      <td>161.6</td>\n",
       "      <td>123</td>\n",
       "      <td>...</td>\n",
       "      <td>103</td>\n",
       "      <td>16.62</td>\n",
       "      <td>254.4</td>\n",
       "      <td>103</td>\n",
       "      <td>11.45</td>\n",
       "      <td>13.7</td>\n",
       "      <td>3</td>\n",
       "      <td>3.70</td>\n",
       "      <td>1</td>\n",
       "      <td>False.</td>\n",
       "    </tr>\n",
       "    <tr>\n",
       "      <td>2</td>\n",
       "      <td>2</td>\n",
       "      <td>NJ</td>\n",
       "      <td>137</td>\n",
       "      <td>415</td>\n",
       "      <td>358-1921</td>\n",
       "      <td>no</td>\n",
       "      <td>no</td>\n",
       "      <td>0</td>\n",
       "      <td>243.4</td>\n",
       "      <td>114</td>\n",
       "      <td>...</td>\n",
       "      <td>110</td>\n",
       "      <td>10.30</td>\n",
       "      <td>162.6</td>\n",
       "      <td>104</td>\n",
       "      <td>7.32</td>\n",
       "      <td>12.2</td>\n",
       "      <td>5</td>\n",
       "      <td>3.29</td>\n",
       "      <td>0</td>\n",
       "      <td>False.</td>\n",
       "    </tr>\n",
       "    <tr>\n",
       "      <td>3</td>\n",
       "      <td>3</td>\n",
       "      <td>OH</td>\n",
       "      <td>84</td>\n",
       "      <td>408</td>\n",
       "      <td>375-9999</td>\n",
       "      <td>yes</td>\n",
       "      <td>no</td>\n",
       "      <td>0</td>\n",
       "      <td>299.4</td>\n",
       "      <td>71</td>\n",
       "      <td>...</td>\n",
       "      <td>88</td>\n",
       "      <td>5.26</td>\n",
       "      <td>196.9</td>\n",
       "      <td>89</td>\n",
       "      <td>8.86</td>\n",
       "      <td>6.6</td>\n",
       "      <td>7</td>\n",
       "      <td>1.78</td>\n",
       "      <td>2</td>\n",
       "      <td>False.</td>\n",
       "    </tr>\n",
       "    <tr>\n",
       "      <td>4</td>\n",
       "      <td>4</td>\n",
       "      <td>OK</td>\n",
       "      <td>75</td>\n",
       "      <td>415</td>\n",
       "      <td>330-6626</td>\n",
       "      <td>yes</td>\n",
       "      <td>no</td>\n",
       "      <td>0</td>\n",
       "      <td>166.7</td>\n",
       "      <td>113</td>\n",
       "      <td>...</td>\n",
       "      <td>122</td>\n",
       "      <td>12.61</td>\n",
       "      <td>186.9</td>\n",
       "      <td>121</td>\n",
       "      <td>8.41</td>\n",
       "      <td>10.1</td>\n",
       "      <td>3</td>\n",
       "      <td>2.73</td>\n",
       "      <td>3</td>\n",
       "      <td>False.</td>\n",
       "    </tr>\n",
       "  </tbody>\n",
       "</table>\n",
       "<p>5 rows × 22 columns</p>\n",
       "</div>"
      ],
      "text/plain": [
       "   Unnamed: 0 State  Account_Length  Area_Code      Phone International_plan  \\\n",
       "0           0    KS             128        415   382-4657                 no   \n",
       "1           1    OH             107        415   371-7191                 no   \n",
       "2           2    NJ             137        415   358-1921                 no   \n",
       "3           3    OH              84        408   375-9999                yes   \n",
       "4           4    OK              75        415   330-6626                yes   \n",
       "\n",
       "  VMail_Plan  Vmail_Message  Day_Mins  Day_Calls  ...  Eve_Calls  Eve_Charge  \\\n",
       "0        yes             25     265.1        110  ...         99       16.78   \n",
       "1        yes             26     161.6        123  ...        103       16.62   \n",
       "2         no              0     243.4        114  ...        110       10.30   \n",
       "3         no              0     299.4         71  ...         88        5.26   \n",
       "4         no              0     166.7        113  ...        122       12.61   \n",
       "\n",
       "   Night_Mins  Night_Calls  Night_Charge  International_Mins  \\\n",
       "0       244.7           91         11.01                10.0   \n",
       "1       254.4          103         11.45                13.7   \n",
       "2       162.6          104          7.32                12.2   \n",
       "3       196.9           89          8.86                 6.6   \n",
       "4       186.9          121          8.41                10.1   \n",
       "\n",
       "   International_Calls  International_Charge  CustServ_Calls    Churn  \n",
       "0                    3                  2.70               1   False.  \n",
       "1                    3                  3.70               1   False.  \n",
       "2                    5                  3.29               0   False.  \n",
       "3                    7                  1.78               2   False.  \n",
       "4                    3                  2.73               3   False.  \n",
       "\n",
       "[5 rows x 22 columns]"
      ]
     },
     "execution_count": 7,
     "metadata": {},
     "output_type": "execute_result"
    }
   ],
   "source": [
    "churn.head()"
   ]
  },
  {
   "cell_type": "code",
   "execution_count": 8,
   "metadata": {},
   "outputs": [],
   "source": [
    "churn.replace(' yes',1,inplace=True)\n",
    "churn.replace(' no',0,inplace=True)"
   ]
  },
  {
   "cell_type": "markdown",
   "metadata": {},
   "source": [
    "# Separating dependent and independent variables\n",
    "\n"
   ]
  },
  {
   "cell_type": "code",
   "execution_count": 9,
   "metadata": {},
   "outputs": [],
   "source": [
    "# separating our independent and dependent variable\n",
    "X = churn.drop(['Churn','Unnamed: 0','State','Phone'], axis = 1)\n",
    "y = churn['Churn']"
   ]
  },
  {
   "cell_type": "markdown",
   "metadata": {},
   "source": [
    "# Splitting the training data"
   ]
  },
  {
   "cell_type": "markdown",
   "metadata": {},
   "source": [
    "X_train and y_train first used to train the algorithm.\n",
    "then, X_test is used in that trained algorithms to predict outcomes.\n",
    "Once we get the outcomes, we compare it with y_test\n",
    "By comparing the outcome of the model with y_test, we can determine whether our algorithms are performing well or not. As we compare we use confusion matrix and accuracy to determine different aspects of model performance."
   ]
  },
  {
   "cell_type": "code",
   "execution_count": 10,
   "metadata": {},
   "outputs": [],
   "source": [
    "from sklearn.model_selection import train_test_split\n",
    "X_train, X_test, y_train, y_test = train_test_split(X, y,test_size = .20, random_state = 42)"
   ]
  },
  {
   "cell_type": "markdown",
   "metadata": {},
   "source": [
    "# Feature Scaling"
   ]
  },
  {
   "cell_type": "code",
   "execution_count": 11,
   "metadata": {},
   "outputs": [
    {
     "data": {
      "text/html": [
       "<div>\n",
       "<style scoped>\n",
       "    .dataframe tbody tr th:only-of-type {\n",
       "        vertical-align: middle;\n",
       "    }\n",
       "\n",
       "    .dataframe tbody tr th {\n",
       "        vertical-align: top;\n",
       "    }\n",
       "\n",
       "    .dataframe thead th {\n",
       "        text-align: right;\n",
       "    }\n",
       "</style>\n",
       "<table border=\"1\" class=\"dataframe\">\n",
       "  <thead>\n",
       "    <tr style=\"text-align: right;\">\n",
       "      <th></th>\n",
       "      <th>Account_Length</th>\n",
       "      <th>Area_Code</th>\n",
       "      <th>International_plan</th>\n",
       "      <th>VMail_Plan</th>\n",
       "      <th>Vmail_Message</th>\n",
       "      <th>Day_Mins</th>\n",
       "      <th>Day_Calls</th>\n",
       "      <th>Day_Charge</th>\n",
       "      <th>Eve_Mins</th>\n",
       "      <th>Eve_Calls</th>\n",
       "      <th>Eve_Charge</th>\n",
       "      <th>Night_Mins</th>\n",
       "      <th>Night_Calls</th>\n",
       "      <th>Night_Charge</th>\n",
       "      <th>International_Mins</th>\n",
       "      <th>International_Calls</th>\n",
       "      <th>International_Charge</th>\n",
       "      <th>CustServ_Calls</th>\n",
       "    </tr>\n",
       "  </thead>\n",
       "  <tbody>\n",
       "    <tr>\n",
       "      <td>3189</td>\n",
       "      <td>76</td>\n",
       "      <td>510</td>\n",
       "      <td>1</td>\n",
       "      <td>0</td>\n",
       "      <td>0</td>\n",
       "      <td>246.8</td>\n",
       "      <td>110</td>\n",
       "      <td>41.96</td>\n",
       "      <td>206.3</td>\n",
       "      <td>63</td>\n",
       "      <td>17.54</td>\n",
       "      <td>208.4</td>\n",
       "      <td>123</td>\n",
       "      <td>9.38</td>\n",
       "      <td>13.2</td>\n",
       "      <td>5</td>\n",
       "      <td>3.56</td>\n",
       "      <td>0</td>\n",
       "    </tr>\n",
       "    <tr>\n",
       "      <td>2646</td>\n",
       "      <td>101</td>\n",
       "      <td>415</td>\n",
       "      <td>0</td>\n",
       "      <td>0</td>\n",
       "      <td>0</td>\n",
       "      <td>232.7</td>\n",
       "      <td>114</td>\n",
       "      <td>39.56</td>\n",
       "      <td>186.4</td>\n",
       "      <td>123</td>\n",
       "      <td>15.84</td>\n",
       "      <td>153.3</td>\n",
       "      <td>122</td>\n",
       "      <td>6.90</td>\n",
       "      <td>11.5</td>\n",
       "      <td>6</td>\n",
       "      <td>3.11</td>\n",
       "      <td>5</td>\n",
       "    </tr>\n",
       "    <tr>\n",
       "      <td>506</td>\n",
       "      <td>136</td>\n",
       "      <td>415</td>\n",
       "      <td>0</td>\n",
       "      <td>1</td>\n",
       "      <td>31</td>\n",
       "      <td>143.1</td>\n",
       "      <td>88</td>\n",
       "      <td>24.33</td>\n",
       "      <td>236.6</td>\n",
       "      <td>65</td>\n",
       "      <td>20.11</td>\n",
       "      <td>227.8</td>\n",
       "      <td>120</td>\n",
       "      <td>10.25</td>\n",
       "      <td>11.4</td>\n",
       "      <td>5</td>\n",
       "      <td>3.08</td>\n",
       "      <td>2</td>\n",
       "    </tr>\n",
       "    <tr>\n",
       "      <td>393</td>\n",
       "      <td>112</td>\n",
       "      <td>510</td>\n",
       "      <td>0</td>\n",
       "      <td>0</td>\n",
       "      <td>0</td>\n",
       "      <td>217.1</td>\n",
       "      <td>76</td>\n",
       "      <td>36.91</td>\n",
       "      <td>205.2</td>\n",
       "      <td>100</td>\n",
       "      <td>17.44</td>\n",
       "      <td>185.7</td>\n",
       "      <td>91</td>\n",
       "      <td>8.36</td>\n",
       "      <td>9.4</td>\n",
       "      <td>3</td>\n",
       "      <td>2.54</td>\n",
       "      <td>2</td>\n",
       "    </tr>\n",
       "    <tr>\n",
       "      <td>1183</td>\n",
       "      <td>154</td>\n",
       "      <td>510</td>\n",
       "      <td>0</td>\n",
       "      <td>1</td>\n",
       "      <td>32</td>\n",
       "      <td>192.3</td>\n",
       "      <td>82</td>\n",
       "      <td>32.69</td>\n",
       "      <td>165.3</td>\n",
       "      <td>134</td>\n",
       "      <td>14.05</td>\n",
       "      <td>205.0</td>\n",
       "      <td>74</td>\n",
       "      <td>9.23</td>\n",
       "      <td>9.0</td>\n",
       "      <td>1</td>\n",
       "      <td>2.43</td>\n",
       "      <td>2</td>\n",
       "    </tr>\n",
       "  </tbody>\n",
       "</table>\n",
       "</div>"
      ],
      "text/plain": [
       "      Account_Length  Area_Code  International_plan  VMail_Plan  \\\n",
       "3189              76        510                   1           0   \n",
       "2646             101        415                   0           0   \n",
       "506              136        415                   0           1   \n",
       "393              112        510                   0           0   \n",
       "1183             154        510                   0           1   \n",
       "\n",
       "      Vmail_Message  Day_Mins  Day_Calls  Day_Charge  Eve_Mins  Eve_Calls  \\\n",
       "3189              0     246.8        110       41.96     206.3         63   \n",
       "2646              0     232.7        114       39.56     186.4        123   \n",
       "506              31     143.1         88       24.33     236.6         65   \n",
       "393               0     217.1         76       36.91     205.2        100   \n",
       "1183             32     192.3         82       32.69     165.3        134   \n",
       "\n",
       "      Eve_Charge  Night_Mins  Night_Calls  Night_Charge  International_Mins  \\\n",
       "3189       17.54       208.4          123          9.38                13.2   \n",
       "2646       15.84       153.3          122          6.90                11.5   \n",
       "506        20.11       227.8          120         10.25                11.4   \n",
       "393        17.44       185.7           91          8.36                 9.4   \n",
       "1183       14.05       205.0           74          9.23                 9.0   \n",
       "\n",
       "      International_Calls  International_Charge  CustServ_Calls  \n",
       "3189                    5                  3.56               0  \n",
       "2646                    6                  3.11               5  \n",
       "506                     5                  3.08               2  \n",
       "393                     3                  2.54               2  \n",
       "1183                    1                  2.43               2  "
      ]
     },
     "execution_count": 11,
     "metadata": {},
     "output_type": "execute_result"
    }
   ],
   "source": [
    "headers = X_train.columns \n",
    "\n",
    "X_train.head()"
   ]
  },
  {
   "cell_type": "code",
   "execution_count": 12,
   "metadata": {},
   "outputs": [],
   "source": [
    "## We will be using standardscaler to transform\n",
    "from sklearn.preprocessing import StandardScaler\n",
    "sc = StandardScaler()\n",
    "\n",
    "## transforming \"train_x\"\n",
    "X_train = sc.fit_transform(X_train)\n",
    "\n",
    "## transforming \"test_x\"\n",
    "X_test = sc.transform(X_test)"
   ]
  },
  {
   "cell_type": "code",
   "execution_count": 13,
   "metadata": {},
   "outputs": [],
   "source": [
    "# Saving the file"
   ]
  },
  {
   "cell_type": "markdown",
   "metadata": {},
   "source": [
    "Our dataset is an imblanced as 85% of customer's churn rate is False. An algoritnm that always predicts that False and achieve good accuracy. We need to make balance one for avoiding biased result. Applying SMOTE Technique."
   ]
  },
  {
   "cell_type": "code",
   "execution_count": 14,
   "metadata": {},
   "outputs": [],
   "source": [
    "# Getting imblearn library for applying SMOTE\n",
    "\n",
    "from imblearn.over_sampling import SMOTE\n",
    "smote = SMOTE()\n",
    "X_train_smote, y_train_smote = smote.fit_sample(X_train,y_train)"
   ]
  },
  {
   "cell_type": "code",
   "execution_count": 15,
   "metadata": {},
   "outputs": [
    {
     "name": "stdout",
     "output_type": "stream",
     "text": [
      "Counter({' False.': 3162, ' True.': 531})\n"
     ]
    }
   ],
   "source": [
    "# Checking the counts\n",
    "from collections import Counter\n",
    "print(Counter(y_train))\n"
   ]
  },
  {
   "cell_type": "code",
   "execution_count": 16,
   "metadata": {},
   "outputs": [
    {
     "name": "stdout",
     "output_type": "stream",
     "text": [
      "Counter({' True.': 3162, ' False.': 3162})\n"
     ]
    }
   ],
   "source": [
    "# Checking the counts after SMOTE\n",
    "print(Counter(y_train_smote))\n"
   ]
  },
  {
   "cell_type": "markdown",
   "metadata": {},
   "source": [
    "# Model\n",
    " "
   ]
  },
  {
   "cell_type": "markdown",
   "metadata": {},
   "source": [
    "### Logistic Regression"
   ]
  },
  {
   "cell_type": "code",
   "execution_count": 17,
   "metadata": {},
   "outputs": [],
   "source": [
    "# Import model libraries\n",
    "from sklearn.model_selection import train_test_split\n",
    "from sklearn.preprocessing import StandardScaler, LabelEncoder\n",
    "from sklearn.metrics import confusion_matrix, classification_report, accuracy_score, recall_score, precision_score, roc_curve, roc_auc_score\n",
    "from sklearn.metrics import accuracy_score\n",
    "from sklearn.linear_model import LogisticRegression\n",
    "from sklearn.naive_bayes import GaussianNB\n",
    "from sklearn.svm import SVC\n",
    "from sklearn.tree import DecisionTreeClassifier\n",
    "from sklearn.ensemble import RandomForestClassifier\n",
    "from sklearn.neighbors import KNeighborsClassifier\n",
    "from sklearn.ensemble import GradientBoostingClassifier\n",
    "from sklearn.linear_model import SGDClassifier\n",
    "#from xgboost import XGBClassifier\n",
    "#from xgboost import plot_importance\n",
    "import warnings\n",
    "warnings.filterwarnings(action='ignore')\n"
   ]
  },
  {
   "cell_type": "code",
   "execution_count": 18,
   "metadata": {},
   "outputs": [],
   "source": [
    "## fit the model with \"X_train\" and \"y_train\"\n",
    "## Once the model is trained we want to find out how well the model is performing, so we test the model. \n",
    "## we use \"X_test\" portion of the data (this data was not used to fit the model) to predict model outcome. \n",
    "## Once predicted we save that outcome in \"pred\" variable.\n",
    "## Then we compare the predicted value( \"pred\") and actual value(\"y_test\") to see how well our model is performing. "
   ]
  },
  {
   "cell_type": "code",
   "execution_count": 19,
   "metadata": {},
   "outputs": [],
   "source": [
    "lr = LogisticRegression(random_state = 42)\n",
    "lr.fit(X_train_smote, y_train_smote)\n",
    "lpredict = lr.predict(X_test)\n"
   ]
  },
  {
   "cell_type": "code",
   "execution_count": 20,
   "metadata": {},
   "outputs": [
    {
     "name": "stdout",
     "output_type": "stream",
     "text": [
      "              precision    recall  f1-score   support\n",
      "\n",
      "      False.       0.95      0.74      0.83       799\n",
      "       True.       0.32      0.78      0.45       125\n",
      "\n",
      "    accuracy                           0.74       924\n",
      "   macro avg       0.64      0.76      0.64       924\n",
      "weighted avg       0.87      0.74      0.78       924\n",
      "\n",
      "[[591 208]\n",
      " [ 28  97]]\n",
      "Accuracy: 74.46\n"
     ]
    }
   ],
   "source": [
    "# Printing the accuracy score\n",
    "print(classification_report(y_test, lpredict))\n",
    "print(confusion_matrix(y_test, lpredict))\n",
    "l = round(accuracy_score(y_true = y_test, y_pred = lpredict) * 100, 2)\n",
    "print(\"Accuracy:\", l)"
   ]
  },
  {
   "cell_type": "markdown",
   "metadata": {},
   "source": [
    "### Decision Tree"
   ]
  },
  {
   "cell_type": "code",
   "execution_count": 21,
   "metadata": {},
   "outputs": [],
   "source": [
    "decisiontree = DecisionTreeClassifier(criterion='entropy', random_state = 42)\n",
    "decisiontree.fit(X_train_smote, y_train_smote)\n",
    "dpredict = decisiontree.predict(X_test)\n"
   ]
  },
  {
   "cell_type": "code",
   "execution_count": 22,
   "metadata": {},
   "outputs": [
    {
     "name": "stdout",
     "output_type": "stream",
     "text": [
      "              precision    recall  f1-score   support\n",
      "\n",
      "      False.       0.96      0.94      0.95       799\n",
      "       True.       0.66      0.76      0.71       125\n",
      "\n",
      "    accuracy                           0.91       924\n",
      "   macro avg       0.81      0.85      0.83       924\n",
      "weighted avg       0.92      0.91      0.92       924\n",
      "\n",
      "[[750  49]\n",
      " [ 30  95]]\n",
      "Accuracy: 91.45\n"
     ]
    }
   ],
   "source": [
    "# Printing the accuracy score\n",
    "print(classification_report(y_test, dpredict))\n",
    "print(confusion_matrix(y_test, dpredict))\n",
    "d = round(accuracy_score(y_true = y_test, y_pred = dpredict) * 100, 2)\n",
    "print(\"Accuracy:\", d)"
   ]
  },
  {
   "cell_type": "markdown",
   "metadata": {},
   "source": [
    "### Random Forrest"
   ]
  },
  {
   "cell_type": "code",
   "execution_count": 23,
   "metadata": {},
   "outputs": [],
   "source": [
    "rf = RandomForestClassifier(random_state = 42, criterion='entropy')\n",
    "rf.fit(X_train_smote, y_train_smote)\n",
    "rpredict = rf.predict(X_test)"
   ]
  },
  {
   "cell_type": "code",
   "execution_count": 24,
   "metadata": {},
   "outputs": [
    {
     "name": "stdout",
     "output_type": "stream",
     "text": [
      "              precision    recall  f1-score   support\n",
      "\n",
      "      False.       0.96      0.97      0.97       799\n",
      "       True.       0.82      0.71      0.76       125\n",
      "\n",
      "    accuracy                           0.94       924\n",
      "   macro avg       0.89      0.84      0.86       924\n",
      "weighted avg       0.94      0.94      0.94       924\n",
      "\n",
      "[[779  20]\n",
      " [ 36  89]]\n",
      "Accuracy: 93.94\n"
     ]
    }
   ],
   "source": [
    "# Printing the accuracy score\n",
    "print(classification_report(y_test, rpredict))\n",
    "print(confusion_matrix(y_test, rpredict))\n",
    "r = round(accuracy_score(y_true = y_test, y_pred = rpredict) * 100, 2)\n",
    "print(\"Accuracy:\", r)"
   ]
  },
  {
   "cell_type": "markdown",
   "metadata": {},
   "source": [
    "### Naives Bayes"
   ]
  },
  {
   "cell_type": "code",
   "execution_count": 25,
   "metadata": {},
   "outputs": [],
   "source": [
    "nb = GaussianNB()\n",
    "nb.fit(X_train_smote, y_train_smote)\n",
    "nbpredict = nb.predict(X_test)"
   ]
  },
  {
   "cell_type": "code",
   "execution_count": 26,
   "metadata": {},
   "outputs": [
    {
     "name": "stdout",
     "output_type": "stream",
     "text": [
      "              precision    recall  f1-score   support\n",
      "\n",
      "      False.       0.95      0.78      0.86       799\n",
      "       True.       0.35      0.76      0.48       125\n",
      "\n",
      "    accuracy                           0.78       924\n",
      "   macro avg       0.65      0.77      0.67       924\n",
      "weighted avg       0.87      0.78      0.81       924\n",
      "\n",
      "[[622 177]\n",
      " [ 30  95]]\n",
      "Accuracy: 77.6\n"
     ]
    }
   ],
   "source": [
    "# Printing the accuracy score\n",
    "print(classification_report(y_test, nbpredict))\n",
    "print(confusion_matrix(y_test, nbpredict))\n",
    "n = round(accuracy_score(y_true = y_test, y_pred = nbpredict) * 100, 2)\n",
    "print(\"Accuracy:\", n)"
   ]
  },
  {
   "cell_type": "markdown",
   "metadata": {},
   "source": [
    "### Support Vector Machine"
   ]
  },
  {
   "cell_type": "code",
   "execution_count": 27,
   "metadata": {},
   "outputs": [],
   "source": [
    "svc = SVC(random_state = 42)\n",
    "svc.fit(X_train_smote, y_train_smote)\n",
    "spredict = svc.predict(X_test)"
   ]
  },
  {
   "cell_type": "code",
   "execution_count": 28,
   "metadata": {},
   "outputs": [
    {
     "name": "stdout",
     "output_type": "stream",
     "text": [
      "              precision    recall  f1-score   support\n",
      "\n",
      "      False.       0.95      0.92      0.94       799\n",
      "       True.       0.59      0.71      0.64       125\n",
      "\n",
      "    accuracy                           0.89       924\n",
      "   macro avg       0.77      0.82      0.79       924\n",
      "weighted avg       0.90      0.89      0.90       924\n",
      "\n",
      "[[737  62]\n",
      " [ 36  89]]\n",
      "Accuracy: 89.39\n"
     ]
    }
   ],
   "source": [
    "# Printing the accuracy score\n",
    "print(classification_report(y_test, spredict))\n",
    "print(confusion_matrix(y_test, spredict))\n",
    "s = round(accuracy_score(y_true = y_test, y_pred = spredict) * 100, 2)\n",
    "print(\"Accuracy:\", s)"
   ]
  },
  {
   "cell_type": "markdown",
   "metadata": {},
   "source": [
    "### K Nearest Neighbors"
   ]
  },
  {
   "cell_type": "code",
   "execution_count": 29,
   "metadata": {},
   "outputs": [],
   "source": [
    "knn = KNeighborsClassifier(n_neighbors = 5)\n",
    "knn.fit(X_train_smote, y_train_smote)\n",
    "kpredict = knn.predict(X_test)"
   ]
  },
  {
   "cell_type": "code",
   "execution_count": 30,
   "metadata": {},
   "outputs": [
    {
     "name": "stdout",
     "output_type": "stream",
     "text": [
      "              precision    recall  f1-score   support\n",
      "\n",
      "      False.       0.95      0.82      0.88       799\n",
      "       True.       0.39      0.74      0.51       125\n",
      "\n",
      "    accuracy                           0.81       924\n",
      "   macro avg       0.67      0.78      0.70       924\n",
      "weighted avg       0.88      0.81      0.83       924\n",
      "\n",
      "[[658 141]\n",
      " [ 33  92]]\n",
      "Accuracy: 81.17\n"
     ]
    }
   ],
   "source": [
    "# Printing the accuracy score\n",
    "print(classification_report(y_test, kpredict))\n",
    "print(confusion_matrix(y_test, kpredict))\n",
    "k = round(accuracy_score(y_true = y_test, y_pred = kpredict) * 100, 2)\n",
    "print(\"Accuracy:\", k)"
   ]
  },
  {
   "cell_type": "markdown",
   "metadata": {},
   "source": [
    "### Stochastic Gradient Boosting"
   ]
  },
  {
   "cell_type": "code",
   "execution_count": 31,
   "metadata": {},
   "outputs": [],
   "source": [
    "sgd = SGDClassifier(random_state = 42)\n",
    "sgd.fit(X_train_smote, y_train_smote)\n",
    "sgpredict = sgd.predict(X_test)"
   ]
  },
  {
   "cell_type": "code",
   "execution_count": 32,
   "metadata": {},
   "outputs": [
    {
     "name": "stdout",
     "output_type": "stream",
     "text": [
      "              precision    recall  f1-score   support\n",
      "\n",
      "      False.       0.95      0.73      0.82       799\n",
      "       True.       0.30      0.74      0.43       125\n",
      "\n",
      "    accuracy                           0.73       924\n",
      "   macro avg       0.62      0.74      0.62       924\n",
      "weighted avg       0.86      0.73      0.77       924\n",
      "\n",
      "[[581 218]\n",
      " [ 32  93]]\n",
      "Accuracy: 72.94\n"
     ]
    }
   ],
   "source": [
    "# Printing the accuracy score\n",
    "print(classification_report(y_test, sgpredict))\n",
    "print(confusion_matrix(y_test, sgpredict))\n",
    "sg = round(accuracy_score(y_true = y_test, y_pred = sgpredict) * 100, 2)\n",
    "print(\"Accuracy:\", sg)"
   ]
  },
  {
   "cell_type": "markdown",
   "metadata": {},
   "source": [
    "### Gradient Boosting Classifier"
   ]
  },
  {
   "cell_type": "code",
   "execution_count": 33,
   "metadata": {},
   "outputs": [],
   "source": [
    "gbk = GradientBoostingClassifier(random_state = 42)\n",
    "gbk.fit(X_train_smote, y_train_smote)\n",
    "gbpredict = gbk.predict(X_test)"
   ]
  },
  {
   "cell_type": "code",
   "execution_count": 34,
   "metadata": {
    "scrolled": true
   },
   "outputs": [
    {
     "name": "stdout",
     "output_type": "stream",
     "text": [
      "              precision    recall  f1-score   support\n",
      "\n",
      "      False.       0.97      0.96      0.97       799\n",
      "       True.       0.78      0.78      0.78       125\n",
      "\n",
      "    accuracy                           0.94       924\n",
      "   macro avg       0.87      0.87      0.87       924\n",
      "weighted avg       0.94      0.94      0.94       924\n",
      "\n",
      "[[771  28]\n",
      " [ 27  98]]\n",
      "Accuracy: 94.05\n"
     ]
    }
   ],
   "source": [
    "# Printing the accuracy score\n",
    "print(classification_report(y_test, gbpredict))\n",
    "print(confusion_matrix(y_test, gbpredict))\n",
    "gb = round(accuracy_score(y_true = y_test, y_pred = gbpredict) * 100, 2)\n",
    "print(\"Accuracy:\", gb)"
   ]
  },
  {
   "cell_type": "code",
   "execution_count": 37,
   "metadata": {},
   "outputs": [
    {
     "name": "stdout",
     "output_type": "stream",
     "text": [
      "Logistic Regression - Accuracy: 74.46\n",
      "Gradient Boosting Classifier - Accuracy: 94.05\n",
      "Random Forest - Accuracy: 93.94\n",
      "Decision Tree - Accuracy: 91.45\n",
      "KNN - Accuracy: 81.17\n",
      "Support Vector Machines - Accuracy: 89.39\n",
      "Naive Bayes - Accuracy: 77.6\n",
      "Stochastic Gradient Descent - Accuracy: 72.94\n"
     ]
    }
   ],
   "source": [
    "print(\"Logistic Regression - Accuracy:\", l)\n",
    "print(\"Gradient Boosting Classifier - Accuracy:\", gb)\n",
    "print(\"Random Forest - Accuracy:\", r)\n",
    "print(\"Decision Tree - Accuracy:\", d)\n",
    "print(\"KNN - Accuracy:\", k)\n",
    "print(\"Support Vector Machines - Accuracy:\", s)\n",
    "print(\"Naive Bayes - Accuracy:\", n)\n",
    "print(\"Stochastic Gradient Descent - Accuracy:\", sg)"
   ]
  },
  {
   "cell_type": "markdown",
   "metadata": {},
   "source": [
    "Random Forest came as a best model among all the models followed by Gradient Boosting. Tuning the Random Forest model."
   ]
  },
  {
   "cell_type": "markdown",
   "metadata": {},
   "source": [
    "# Cross Validation"
   ]
  },
  {
   "cell_type": "code",
   "execution_count": 38,
   "metadata": {},
   "outputs": [
    {
     "name": "stdout",
     "output_type": "stream",
     "text": [
      "[0.94396552 0.96103896 0.95670996 0.94372294 0.92207792 0.93506494\n",
      " 0.96103896 0.94805195 0.96536797 0.93506494 0.93506494 0.91774892\n",
      " 0.94805195 0.95670996 0.95238095 0.93073593 0.94347826 0.93043478\n",
      " 0.95652174 0.96956522]\n",
      "0.9456398343036273\n"
     ]
    }
   ],
   "source": [
    "from sklearn.model_selection import cross_val_score\n",
    "scores = cross_val_score(rf, X, y, cv = 20, scoring = 'accuracy')\n",
    "print(scores)\n",
    "print(scores.mean())"
   ]
  },
  {
   "cell_type": "markdown",
   "metadata": {},
   "source": [
    "# Hyperparameter Tuning"
   ]
  },
  {
   "cell_type": "code",
   "execution_count": 39,
   "metadata": {},
   "outputs": [
    {
     "data": {
      "text/plain": [
       "RandomizedSearchCV(cv='warn', error_score='raise-deprecating',\n",
       "                   estimator=RandomForestClassifier(bootstrap=True,\n",
       "                                                    class_weight=None,\n",
       "                                                    criterion='gini',\n",
       "                                                    max_depth=None,\n",
       "                                                    max_features='auto',\n",
       "                                                    max_leaf_nodes=None,\n",
       "                                                    min_impurity_decrease=0.0,\n",
       "                                                    min_impurity_split=None,\n",
       "                                                    min_samples_leaf=1,\n",
       "                                                    min_samples_split=2,\n",
       "                                                    min_weight_fraction_leaf=0.0,\n",
       "                                                    n_estimators='warn',\n",
       "                                                    n_jobs=None,\n",
       "                                                    o...\n",
       "       131, 132, 133, 134, 135, 136, 137, 138, 139, 140, 141, 142, 143,\n",
       "       144, 145, 146, 147, 148, 149, 150, 151, 152, 153, 154, 155, 156,\n",
       "       157, 158, 159, 160, 161, 162, 163, 164, 165, 166, 167, 168, 169,\n",
       "       170, 171, 172, 173, 174, 175, 176, 177, 178, 179, 180, 181, 182,\n",
       "       183, 184, 185, 186, 187, 188, 189, 190, 191, 192, 193, 194, 195,\n",
       "       196, 197, 198, 199])},\n",
       "                   pre_dispatch='2*n_jobs', random_state=None, refit=True,\n",
       "                   return_train_score=False, scoring=None, verbose=0)"
      ]
     },
     "execution_count": 39,
     "metadata": {},
     "output_type": "execute_result"
    }
   ],
   "source": [
    "from sklearn.model_selection import GridSearchCV,RandomizedSearchCV\n",
    "\n",
    "params= {'n_estimators':np.arange(1,200),\n",
    "         'random_state': np.arange(1,200),\n",
    "         'criterion': ['entropy','gini'],\n",
    "          'max_features':['auto','sqrt','log2'],\n",
    "         'bootstrap':[True, False]\n",
    "          }\n",
    "model = RandomizedSearchCV(RandomForestClassifier(),params)\n",
    "model.fit(X_train_smote, y_train_smote)\n"
   ]
  },
  {
   "cell_type": "code",
   "execution_count": 40,
   "metadata": {},
   "outputs": [
    {
     "data": {
      "text/plain": [
       "0.9641049968374447"
      ]
     },
     "execution_count": 40,
     "metadata": {},
     "output_type": "execute_result"
    }
   ],
   "source": [
    "model.best_score_"
   ]
  },
  {
   "cell_type": "code",
   "execution_count": 41,
   "metadata": {},
   "outputs": [
    {
     "data": {
      "text/plain": [
       "{'random_state': 41,\n",
       " 'n_estimators': 104,\n",
       " 'max_features': 'sqrt',\n",
       " 'criterion': 'entropy',\n",
       " 'bootstrap': False}"
      ]
     },
     "execution_count": 41,
     "metadata": {},
     "output_type": "execute_result"
    }
   ],
   "source": [
    "model.best_params_"
   ]
  },
  {
   "cell_type": "code",
   "execution_count": 42,
   "metadata": {},
   "outputs": [
    {
     "data": {
      "text/plain": [
       "RandomForestClassifier(bootstrap=False, class_weight=None, criterion='entropy',\n",
       "                       max_depth=None, max_features='sqrt', max_leaf_nodes=None,\n",
       "                       min_impurity_decrease=0.0, min_impurity_split=None,\n",
       "                       min_samples_leaf=1, min_samples_split=2,\n",
       "                       min_weight_fraction_leaf=0.0, n_estimators=104,\n",
       "                       n_jobs=None, oob_score=False, random_state=41, verbose=0,\n",
       "                       warm_start=False)"
      ]
     },
     "execution_count": 42,
     "metadata": {},
     "output_type": "execute_result"
    }
   ],
   "source": [
    "model.best_estimator_"
   ]
  },
  {
   "cell_type": "code",
   "execution_count": 61,
   "metadata": {},
   "outputs": [
    {
     "data": {
      "text/plain": [
       "array([[0.92307692, 0.07692308],\n",
       "       [0.99038462, 0.00961538],\n",
       "       [0.96153846, 0.03846154],\n",
       "       ...,\n",
       "       [0.875     , 0.125     ],\n",
       "       [0.625     , 0.375     ],\n",
       "       [0.94230769, 0.05769231]])"
      ]
     },
     "execution_count": 61,
     "metadata": {},
     "output_type": "execute_result"
    }
   ],
   "source": [
    "# Checking ROC \n",
    "df = model.predict_proba(X_test)"
   ]
  },
  {
   "cell_type": "markdown",
   "metadata": {},
   "source": [
    "# Our AUC score is 92% from the above model. "
   ]
  },
  {
   "cell_type": "markdown",
   "metadata": {},
   "source": [
    "# Feature vs Influence on model"
   ]
  },
  {
   "cell_type": "code",
   "execution_count": 51,
   "metadata": {},
   "outputs": [],
   "source": [
    "import pandas as pd\n",
    "feature_importances = pd.DataFrame(rf.feature_importances_,\n",
    "                                   index = X.columns,\n",
    "                                    columns=['importance']).sort_values('importance', ascending=False)"
   ]
  },
  {
   "cell_type": "code",
   "execution_count": 52,
   "metadata": {},
   "outputs": [
    {
     "data": {
      "text/html": [
       "<div>\n",
       "<style scoped>\n",
       "    .dataframe tbody tr th:only-of-type {\n",
       "        vertical-align: middle;\n",
       "    }\n",
       "\n",
       "    .dataframe tbody tr th {\n",
       "        vertical-align: top;\n",
       "    }\n",
       "\n",
       "    .dataframe thead th {\n",
       "        text-align: right;\n",
       "    }\n",
       "</style>\n",
       "<table border=\"1\" class=\"dataframe\">\n",
       "  <thead>\n",
       "    <tr style=\"text-align: right;\">\n",
       "      <th></th>\n",
       "      <th>importance</th>\n",
       "    </tr>\n",
       "  </thead>\n",
       "  <tbody>\n",
       "    <tr>\n",
       "      <td>CustServ_Calls</td>\n",
       "      <td>0.134663</td>\n",
       "    </tr>\n",
       "    <tr>\n",
       "      <td>Day_Mins</td>\n",
       "      <td>0.128009</td>\n",
       "    </tr>\n",
       "    <tr>\n",
       "      <td>Day_Charge</td>\n",
       "      <td>0.096380</td>\n",
       "    </tr>\n",
       "    <tr>\n",
       "      <td>International_plan</td>\n",
       "      <td>0.094475</td>\n",
       "    </tr>\n",
       "    <tr>\n",
       "      <td>International_Calls</td>\n",
       "      <td>0.075598</td>\n",
       "    </tr>\n",
       "    <tr>\n",
       "      <td>Area_Code</td>\n",
       "      <td>0.058440</td>\n",
       "    </tr>\n",
       "    <tr>\n",
       "      <td>Eve_Charge</td>\n",
       "      <td>0.051527</td>\n",
       "    </tr>\n",
       "    <tr>\n",
       "      <td>Eve_Mins</td>\n",
       "      <td>0.051246</td>\n",
       "    </tr>\n",
       "    <tr>\n",
       "      <td>International_Charge</td>\n",
       "      <td>0.039221</td>\n",
       "    </tr>\n",
       "    <tr>\n",
       "      <td>Night_Charge</td>\n",
       "      <td>0.038068</td>\n",
       "    </tr>\n",
       "    <tr>\n",
       "      <td>International_Mins</td>\n",
       "      <td>0.035957</td>\n",
       "    </tr>\n",
       "    <tr>\n",
       "      <td>Night_Mins</td>\n",
       "      <td>0.032918</td>\n",
       "    </tr>\n",
       "    <tr>\n",
       "      <td>Day_Calls</td>\n",
       "      <td>0.030611</td>\n",
       "    </tr>\n",
       "    <tr>\n",
       "      <td>Night_Calls</td>\n",
       "      <td>0.028373</td>\n",
       "    </tr>\n",
       "    <tr>\n",
       "      <td>Eve_Calls</td>\n",
       "      <td>0.027595</td>\n",
       "    </tr>\n",
       "    <tr>\n",
       "      <td>VMail_Plan</td>\n",
       "      <td>0.026864</td>\n",
       "    </tr>\n",
       "    <tr>\n",
       "      <td>Account_Length</td>\n",
       "      <td>0.025794</td>\n",
       "    </tr>\n",
       "    <tr>\n",
       "      <td>Vmail_Message</td>\n",
       "      <td>0.024259</td>\n",
       "    </tr>\n",
       "  </tbody>\n",
       "</table>\n",
       "</div>"
      ],
      "text/plain": [
       "                      importance\n",
       "CustServ_Calls          0.134663\n",
       "Day_Mins                0.128009\n",
       "Day_Charge              0.096380\n",
       "International_plan      0.094475\n",
       "International_Calls     0.075598\n",
       "Area_Code               0.058440\n",
       "Eve_Charge              0.051527\n",
       "Eve_Mins                0.051246\n",
       "International_Charge    0.039221\n",
       "Night_Charge            0.038068\n",
       "International_Mins      0.035957\n",
       "Night_Mins              0.032918\n",
       "Day_Calls               0.030611\n",
       "Night_Calls             0.028373\n",
       "Eve_Calls               0.027595\n",
       "VMail_Plan              0.026864\n",
       "Account_Length          0.025794\n",
       "Vmail_Message           0.024259"
      ]
     },
     "execution_count": 52,
     "metadata": {},
     "output_type": "execute_result"
    }
   ],
   "source": [
    "feature_importances"
   ]
  },
  {
   "cell_type": "code",
   "execution_count": 73,
   "metadata": {},
   "outputs": [
    {
     "data": {
      "text/plain": [
       "<matplotlib.axes._subplots.AxesSubplot at 0x3985ed0>"
      ]
     },
     "execution_count": 73,
     "metadata": {},
     "output_type": "execute_result"
    },
    {
     "data": {
      "image/png": "[encoded data removed]",
      "text/plain": [
       "<Figure size 1080x720 with 1 Axes>"
      ]
     },
     "metadata": {},
     "output_type": "display_data"
    }
   ],
   "source": [
    "feature_importances.sort_values('importance', ascending=False).plot(kind = 'bar')"
   ]
  },
  {
   "cell_type": "code",
   "execution_count": null,
   "metadata": {},
   "outputs": [],
   "source": [
    "from sklearn.externals import joblib"
   ]
  },
  {
   "cell_type": "code",
   "execution_count": null,
   "metadata": {},
   "outputs": [],
   "source": [
    "# Dump the Model\n",
    "joblib.dump(model,'Telcomchurn.ml')"
   ]
  },
  {
   "cell_type": "code",
   "execution_count": null,
   "metadata": {},
   "outputs": [],
   "source": []
  }
 ],
 "metadata": {
  "kernelspec": {
   "display_name": "Python 3",
   "language": "python",
   "name": "python3"
  },
  "language_info": {
   "codemirror_mode": {
    "name": "ipython",
    "version": 3
   },
   "file_extension": ".py",
   "mimetype": "text/x-python",
   "name": "python",
   "nbconvert_exporter": "python",
   "pygments_lexer": "ipython3",
   "version": "3.7.4"
  }
 },
 "nbformat": 4,
 "nbformat_minor": 2
}
